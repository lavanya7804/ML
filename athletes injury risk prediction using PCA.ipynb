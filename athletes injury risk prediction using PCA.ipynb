{
 "cells": [
  {
   "cell_type": "code",
   "execution_count": 1,
   "id": "11516893",
   "metadata": {},
   "outputs": [
    {
     "name": "stdout",
     "output_type": "stream",
     "text": [
      "Prediction for the unseen data: [1]\n"
     ]
    }
   ],
   "source": [
    "import pandas as pd\n",
    "from sklearn.decomposition import PCA\n",
    "from sklearn.preprocessing import StandardScaler\n",
    "from sklearn.model_selection import train_test_split\n",
    "from sklearn.ensemble import RandomForestClassifier\n",
    "\n",
    "df = pd.read_csv('athlete_injury_risks.csv')\n",
    "\n",
    "df['Gender'] = df['Gender'].map({'Male': 0, 'Female': 1})\n",
    "df['Previous Injuries'] = df['Previous Injuries'].map({'Yes': 1, 'No': 0})\n",
    "df['Training Intensity'] = df['Training Intensity'].map({'Low': 0, 'Medium': 1, 'High': 2})\n",
    "df['Sleep Quality'] = df['Sleep Quality'].map({'Poor': 0, 'Fair': 1, 'Good': 2})\n",
    "df['Movement Patterns'] = df['Movement Patterns'].map({'Normal': 0, 'Abnormal': 1})\n",
    "df['Fatigue Level'] = df['Fatigue Level'].map({'Low': 0, 'Medium': 1, 'High': 2})\n",
    "df['Environmental Factors'] = df['Environmental Factors'].map({'Sunny': 0, 'Rainy': 1, 'Snowy': 2, 'Humid': 3, 'Dry': 4})\n",
    "df['Training Type'] = df['Training Type'].map({'Running': 0, 'Weightlifting': 1, 'Football': 2, 'Cycling': 3})\n",
    "\n",
    "X = df.drop('Injury Risk (Target)', axis=1)\n",
    "y = df['Injury Risk (Target)']\n",
    "\n",
    "scaler = StandardScaler()\n",
    "X_scaled = scaler.fit_transform(X)\n",
    "\n",
    "pca = PCA(n_components=5)  \n",
    "X_pca = pca.fit_transform(X_scaled)\n",
    "\n",
    "X_train, X_test, y_train, y_test = train_test_split(X_pca, y, test_size=0.2, random_state=42)\n",
    "\n",
    "classifier = RandomForestClassifier(random_state=42)\n",
    "classifier.fit(X_train, y_train)\n",
    "\n",
    "unseen_data = pd.DataFrame({\n",
    "    'Gender': [0],  # Male\n",
    "    'Previous Injuries': [1],  # Yes\n",
    "    'Training Intensity': [2],  # High\n",
    "    'Sleep Quality': [2],  # Good\n",
    "    'Movement Patterns': [0],  # Normal\n",
    "    'Fatigue Level': [1],  # Medium\n",
    "    'Environmental Factors': [3],  # Humid\n",
    "    'Training Type': [1]  # Weightlifting\n",
    "})\n",
    "\n",
    "\n",
    "unseen_data_scaled = scaler.transform(unseen_data)\n",
    "\n",
    "unseen_data_pca = pca.transform(unseen_data_scaled)\n",
    "\n",
    "unseen_prediction = classifier.predict(unseen_data_pca)\n",
    "\n",
    "print(\"Prediction for the unseen data:\", unseen_prediction)\n"
   ]
  },
  {
   "cell_type": "code",
   "execution_count": null,
   "id": "aa3cc6a4",
   "metadata": {},
   "outputs": [],
   "source": []
  }
 ],
 "metadata": {
  "kernelspec": {
   "display_name": "Python 3 (ipykernel)",
   "language": "python",
   "name": "python3"
  },
  "language_info": {
   "codemirror_mode": {
    "name": "ipython",
    "version": 3
   },
   "file_extension": ".py",
   "mimetype": "text/x-python",
   "name": "python",
   "nbconvert_exporter": "python",
   "pygments_lexer": "ipython3",
   "version": "3.10.9"
  }
 },
 "nbformat": 4,
 "nbformat_minor": 5
}
